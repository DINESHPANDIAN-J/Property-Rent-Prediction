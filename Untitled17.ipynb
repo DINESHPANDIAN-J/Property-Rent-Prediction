{
  "nbformat": 4,
  "nbformat_minor": 0,
  "metadata": {
    "colab": {
      "provenance": [],
      "gpuType": "T4"
    },
    "kernelspec": {
      "name": "python3",
      "display_name": "Python 3"
    },
    "language_info": {
      "name": "python"
    },
    "accelerator": "GPU"
  },
  "cells": [
    {
      "cell_type": "code",
      "execution_count": null,
      "metadata": {
        "id": "706bBwPZlXYH"
      },
      "outputs": [],
      "source": [
        "from geopy.geocoders import Nominatim\n",
        "from geopy.exc import GeocoderTimedOut\n",
        "\n",
        "# Specify a custom user_agent\n",
        "user_agent = \"Get location\"\n",
        "geolocator = Nominatim(user_agent=user_agent, timeout=20)\n",
        "\n",
        "# Define a function to get location information\n",
        "def get_location_info(row):\n",
        "    try:\n",
        "        location = geolocator.reverse((row['latitude'], row['longitude']), language='en').raw\n",
        "        if location:\n",
        "            return {\n",
        "                'locality': location.get('address', {}).get('suburb', None),\n",
        "                'city': location.get('address', {}).get('city', None)\n",
        "            }\n",
        "        else:\n",
        "            return {\n",
        "                'locality': None,\n",
        "                'city': None\n",
        "            }\n",
        "    except GeocoderTimedOut:\n",
        "        # Handle the timed-out error by raising it again\n",
        "        raise\n"
      ]
    },
    {
      "cell_type": "code",
      "source": [
        "import pandas as pd\n",
        "test_df_1 = pd.read_csv('test_df_1.csv')"
      ],
      "metadata": {
        "id": "DckUY--Hl8j3"
      },
      "execution_count": null,
      "outputs": []
    },
    {
      "cell_type": "code",
      "source": [
        "test_df_1[['locality', 'city']] = test_df_1.apply(get_location_info, axis=1, result_type='expand')"
      ],
      "metadata": {
        "id": "i_NBsTKUlsoU"
      },
      "execution_count": null,
      "outputs": []
    }
  ]
}